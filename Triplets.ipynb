{
  "nbformat": 4,
  "nbformat_minor": 0,
  "metadata": {
    "colab": {
      "provenance": [],
      "collapsed_sections": [
        "PMYp6ZBk08PN"
      ],
      "machine_shape": "hm",
      "authorship_tag": "ABX9TyNrJ23U3f5qtoJ/hUu4MhzG",
      "include_colab_link": true
    },
    "kernelspec": {
      "name": "python3",
      "display_name": "Python 3"
    },
    "language_info": {
      "name": "python"
    }
  },
  "cells": [
    {
      "cell_type": "markdown",
      "metadata": {
        "id": "view-in-github",
        "colab_type": "text"
      },
      "source": [
        "<a href=\"https://colab.research.google.com/github/giacomosansoni/Siamese_Network_Artist_Similarity/blob/main/Triplets.ipynb\" target=\"_parent\"><img src=\"https://colab.research.google.com/assets/colab-badge.svg\" alt=\"Open In Colab\"/></a>"
      ]
    },
    {
      "cell_type": "code",
      "execution_count": null,
      "metadata": {
        "id": "xlH534Q_Sigk"
      },
      "outputs": [],
      "source": [
        "import numpy as np\n",
        "import pandas as pd\n",
        "from tqdm import tqdm\n",
        "import os\n",
        "import random"
      ]
    },
    {
      "cell_type": "code",
      "source": [
        "from google.colab import drive\n",
        "drive.mount('/gdrive')\n",
        "%cd /gdrive/My Drive/Thesis/Thesis/"
      ],
      "metadata": {
        "colab": {
          "base_uri": "https://localhost:8080/"
        },
        "id": "nSJUtD-FVrXF",
        "outputId": "f4babc76-f926-4843-a0b9-146ddcd287c1"
      },
      "execution_count": null,
      "outputs": [
        {
          "output_type": "stream",
          "name": "stdout",
          "text": [
            "Mounted at /gdrive\n",
            "/gdrive/.shortcut-targets-by-id/1D4FFhBTYn6QfBuxB5OXjn7JgI3z14YxH/Thesis\n"
          ]
        }
      ]
    },
    {
      "cell_type": "code",
      "source": [
        "# Finds the all the similar artists given an anchor\n",
        "def find_positives(anchor, related):\n",
        "    filtered_df = related[related['musicbrainz_id'] == anchor]\n",
        "    # Extract the 'id_related_artist' from these filtered rows\n",
        "    related_artists = filtered_df['id_related_artist'].tolist()\n",
        "    return related_artists\n",
        "\n",
        "# Finds a negative artist given an anchor, st it's not in the positives and it's in base_names\n",
        "def find_negative(anchor, related):\n",
        "    related_artists = find_positives(anchor, related)\n",
        "    while True:\n",
        "      negative = random.choice(base_names)\n",
        "      if negative not in related_artists and negative in base_names_set:\n",
        "        break\n",
        "    return negative\n",
        "\n",
        "# Add the triplet given anchor and positive\n",
        "def add_triplet(anchor, positive, negative, triplets, i):\n",
        "    emb_path = os.path.join(root_dir, 'Emb_artist_scaled', f'{i}', f'{anchor}.npy')\n",
        "    emb_anc = np.load(emb_path)\n",
        "    emb_path = os.path.join(root_dir, 'Emb_artist_scaled', f'{i}', f'{negative}.npy')\n",
        "    emb_neg = np.load(emb_path)\n",
        "    emb_path = os.path.join(root_dir, 'Emb_artist_scaled', f'{i}', f'{positive}.npy')\n",
        "    emb_pos = np.load(emb_path)\n",
        "\n",
        "    assert emb_anc.shape == (1, 61440), f\"Error: The shape of emb of {anchor} is {emb_anc.shape}!\"\n",
        "    assert emb_pos.shape == (1, 61440), f\"Error: The shape of emb of {positive} is {emb_pos.shape}!\"\n",
        "    assert emb_neg.shape == (1, 61440), f\"Error: The shape of emb of {negative} is {emb_pos.shape}!\"\n",
        "\n",
        "    # Concatenate embeddings to form triplets\n",
        "    triplet = np.concatenate([emb_anc, emb_pos, emb_neg], axis=0)\n",
        "\n",
        "    triplets = np.concatenate((triplets, triplet[np.newaxis, :]), axis=0)\n",
        "\n",
        "    return triplets\n",
        "\n",
        "def add_triplets(anchor, positive, negative, *triplets):\n",
        "    updated_triplets = []\n",
        "\n",
        "    for i, triplet_array in enumerate(triplets):\n",
        "        emb_path = os.path.join(root_dir, 'Emb_artist_scaled', f'{i+1}', f'{anchor}.npy')\n",
        "        emb_anc = np.load(emb_path)\n",
        "        emb_path = os.path.join(root_dir, 'Emb_artist_scaled', f'{i+1}', f'{negative}.npy')\n",
        "        emb_neg = np.load(emb_path)\n",
        "        emb_path = os.path.join(root_dir, 'Emb_artist_scaled', f'{i+1}', f'{positive}.npy')\n",
        "        emb_pos = np.load(emb_path)\n",
        "\n",
        "        assert emb_anc.shape == (1, 61440), f\"Error: The shape of emb of {anchor} is {emb_anc.shape}!\"\n",
        "        assert emb_pos.shape == (1, 61440), f\"Error: The shape of emb of {positive} is {emb_pos.shape}!\"\n",
        "        assert emb_neg.shape == (1, 61440), f\"Error: The shape of emb of {negative} is {emb_neg.shape}!\"\n",
        "\n",
        "        # Concatenate embeddings to form triplets\n",
        "        triplet = np.concatenate([emb_anc, emb_pos, emb_neg], axis=0)\n",
        "        triplet_array = np.concatenate((triplet_array, triplet[np.newaxis, :]), axis=0)\n",
        "\n",
        "        updated_triplets.append(triplet_array)\n",
        "\n",
        "    return updated_triplets"
      ],
      "metadata": {
        "id": "LTBPH9p35Mux"
      },
      "execution_count": null,
      "outputs": []
    },
    {
      "cell_type": "markdown",
      "source": [
        "### Only csv"
      ],
      "metadata": {
        "id": "PMYp6ZBk08PN"
      }
    },
    {
      "cell_type": "code",
      "source": [
        "# Create an array containing all the musicbrainz_id of the artist we have downloaded\n",
        "root_dir = os.getcwd()\n",
        "emb_dir = os.path.join(root_dir, 'Embeddings_40')\n",
        "base_names_me = []\n",
        "for file_name in tqdm(os.listdir(emb_dir)):\n",
        "  if file_name.endswith('.npz'):\n",
        "    base_name_me = os.path.splitext(file_name)[0]\n",
        "    base_names_me.append(base_name_me)\n",
        "\n",
        "# base_names is large, converting it to a set can significantly speed up membership tests\n",
        "base_names_me_set = set(base_names_me)\n",
        "\n",
        "# x: Xiangbo, d: Davide\n",
        "artists_x = pd.read_csv(os.path.join(root_dir, 'Triplets', 'artists_xiangbo.csv'), encoding='ISO-8859-1')\n",
        "artists_d = pd.read_csv(os.path.join(root_dir, 'Triplets', 'artists_davide.csv'))\n",
        "base_names_x = artists_x['musicbrainz_id']\n",
        "base_names_d = artists_d['musicbrainz_id']\n",
        "base_names_x_set = set(base_names_x)\n",
        "base_names_d_set = set(base_names_d)\n",
        "\n",
        "# Find the intersection of all three sets\n",
        "base_names_set = base_names_me_set & base_names_x_set & base_names_d_set\n",
        "\n",
        "# Convert the intersection set back to a list for base_names\n",
        "base_names = list(base_names_set)"
      ],
      "metadata": {
        "colab": {
          "base_uri": "https://localhost:8080/"
        },
        "id": "29E2qo8_Vu3K",
        "outputId": "723e2e29-0aed-42ca-b6e4-9e7e899b2b01"
      },
      "execution_count": null,
      "outputs": [
        {
          "output_type": "stream",
          "name": "stderr",
          "text": [
            "100%|██████████| 3992/3992 [00:00<00:00, 208750.41it/s]\n"
          ]
        }
      ]
    },
    {
      "cell_type": "code",
      "source": [
        "len(base_names)"
      ],
      "metadata": {
        "colab": {
          "base_uri": "https://localhost:8080/"
        },
        "id": "6nsQpElz1wsz",
        "outputId": "d39bb15a-6539-4571-9c3e-79343884b61a"
      },
      "execution_count": null,
      "outputs": [
        {
          "output_type": "execute_result",
          "data": {
            "text/plain": [
              "3008"
            ]
          },
          "metadata": {},
          "execution_count": 4
        }
      ]
    },
    {
      "cell_type": "code",
      "source": [
        "triplet_dir = os.path.join(root_dir, 'Triplets')\n",
        "\n",
        "# Ground truths\n",
        "related_music = pd.read_csv(os.path.join(root_dir, 'Triplets', 'related-allmusic-artists.csv'))\n",
        "related_spot = pd.read_csv(os.path.join(root_dir, 'Triplets', 'related-spotify-artists.csv'))\n",
        "\n",
        "# Initializing the dataframes we will then save\n",
        "new_rows = []\n",
        "triplets_ids_music = pd.DataFrame(new_rows, columns=['anchor', 'positive', 'negative'])\n",
        "triplets_ids_spot = pd.DataFrame(new_rows, columns=['anchor', 'positive', 'negative'])\n",
        "triplets_ids_music_spot = pd.DataFrame(new_rows, columns=['anchor', 'positive', 'negative'])\n",
        "\n",
        "# Initializing the pairs set that we need to keep track of the triplets we are adding\n",
        "existing_pairs_music = set(zip(triplets_ids_music['anchor'], triplets_ids_music['positive']))\n",
        "existing_pairs_spot = set(zip(triplets_ids_music['anchor'], triplets_ids_music['positive']))"
      ],
      "metadata": {
        "id": "VyiepoD80-tM"
      },
      "execution_count": null,
      "outputs": []
    },
    {
      "cell_type": "code",
      "source": [
        "# ALL MUSIC\n",
        "\n",
        "count = 0\n",
        "for index, row in tqdm(related_music.iterrows()):\n",
        "  anchor = row['musicbrainz_id']\n",
        "  positive = row['id_related_artist']\n",
        "  if anchor in base_names_set and positive in base_names_set:\n",
        "    if (anchor, positive) in existing_pairs_music:\n",
        "      print(f\"{anchor} / {positive} already done\")\n",
        "      continue\n",
        "    negative = find_negative(anchor, related_music)\n",
        "    new_row = pd.DataFrame({'anchor': [anchor], 'positive': [positive], 'negative': [negative]})\n",
        "    triplets_ids_music = pd.concat([triplets_ids_music, new_row], ignore_index=True)\n",
        "    existing_pairs_music.add((anchor, positive))\n",
        "\n",
        "    # If 2 artists are similar then also the opposite relation counts! Let's check if there is also the opposite relation in the excel\n",
        "    condition = (related_music['musicbrainz_id'] == positive) & (related_music['id_related_artist'] == anchor)\n",
        "    matching_rows = related_music[condition]\n",
        "    if matching_rows.empty:\n",
        "      negative = find_negative(positive, related_music)\n",
        "      new_row = pd.DataFrame({'anchor': [positive], 'positive': [anchor], 'negative': [negative]})\n",
        "      triplets_ids_music = pd.concat([triplets_ids_music, new_row], ignore_index=True)\n",
        "      existing_pairs_music.add((positive, anchor))\n",
        "  else:\n",
        "    count += 1"
      ],
      "metadata": {
        "colab": {
          "base_uri": "https://localhost:8080/"
        },
        "id": "9NHa9BqG-25o",
        "outputId": "db048440-6f1a-4d4e-934c-98ed4735b759"
      },
      "execution_count": null,
      "outputs": [
        {
          "output_type": "stream",
          "name": "stderr",
          "text": [
            "4048it [00:56, 127.29it/s]"
          ]
        },
        {
          "output_type": "stream",
          "name": "stdout",
          "text": [
            "56cd15a1-0d74-438b-8244-c96ffe1cae03 / 8be0594f-8c13-46bb-ab06-f93ffba5c776 already done\n"
          ]
        },
        {
          "output_type": "stream",
          "name": "stderr",
          "text": [
            "11927it [02:02, 158.79it/s]"
          ]
        },
        {
          "output_type": "stream",
          "name": "stdout",
          "text": [
            "b5c4ffa2-82e1-4b72-b7f3-c60afb74b860 / 88a8d8a9-7c9b-4f7b-8700-7f0f7a503688 already done\n"
          ]
        },
        {
          "output_type": "stream",
          "name": "stderr",
          "text": [
            "32848it [03:13, 663.57it/s] "
          ]
        },
        {
          "output_type": "stream",
          "name": "stdout",
          "text": [
            "9f9953f0-68bb-4ce3-aace-2f44c87f0aa3 / 5d0c202c-e30f-40c4-abf5-c0007af0d1cc already done\n"
          ]
        },
        {
          "output_type": "stream",
          "name": "stderr",
          "text": [
            "39641it [03:36, 159.80it/s]"
          ]
        },
        {
          "output_type": "stream",
          "name": "stdout",
          "text": [
            "32567eb3-aeca-467f-8b89-a69b11fcb781 / 2a90aa9c-d2ff-49fd-a8e5-2463f657eb45 already done\n"
          ]
        },
        {
          "output_type": "stream",
          "name": "stderr",
          "text": [
            "41961it [03:56, 177.08it/s]\n"
          ]
        }
      ]
    },
    {
      "cell_type": "code",
      "source": [
        "triplets_ids_music.shape, count"
      ],
      "metadata": {
        "colab": {
          "base_uri": "https://localhost:8080/"
        },
        "id": "thlXn5iyArK1",
        "outputId": "898d259f-7934-4453-fd1d-20bebc18a9e5"
      },
      "execution_count": null,
      "outputs": [
        {
          "output_type": "execute_result",
          "data": {
            "text/plain": [
              "((17673, 3), 29192)"
            ]
          },
          "metadata": {},
          "execution_count": 20
        }
      ]
    },
    {
      "cell_type": "code",
      "source": [
        "# Save to a new CSV file\n",
        "output_path = os.path.join(root_dir, 'Triplets', 'triplets_ids_music.csv')\n",
        "triplets_ids_music.to_csv(output_path, index=False)"
      ],
      "metadata": {
        "id": "tVv1wYrb_u5t"
      },
      "execution_count": null,
      "outputs": []
    },
    {
      "cell_type": "code",
      "source": [
        "# SPOTIFY\n",
        "\n",
        "count = 0\n",
        "for index, row in tqdm(related_spot.iterrows()):\n",
        "  anchor = row['musicbrainz_id']\n",
        "  positive = row['id_related_artist']\n",
        "  if anchor in base_names_set and positive in base_names_set:\n",
        "    if (anchor, positive) in existing_pairs_spot:\n",
        "      print(f\"{anchor} / {positive} already done\")\n",
        "      continue\n",
        "    negative = find_negative(anchor, related_spot)\n",
        "    new_row = pd.DataFrame({'anchor': [anchor], 'positive': [positive], 'negative': [negative]})\n",
        "    triplets_ids_spot = pd.concat([triplets_ids_spot, new_row], ignore_index=True)\n",
        "    existing_pairs_spot.add((anchor, positive))\n",
        "\n",
        "    # If 2 artists are similar then also the opposite relation counts! Let's check if there is also the opposite relation in the excel\n",
        "    condition = (related_spot['musicbrainz_id'] == positive) & (related_spot['id_related_artist'] == anchor)\n",
        "    matching_rows = related_spot[condition]\n",
        "    if matching_rows.empty:\n",
        "      negative = find_negative(positive, related_spot)\n",
        "      new_row = pd.DataFrame({'anchor': [positive], 'positive': [anchor], 'negative': [negative]})\n",
        "      triplets_ids_spot = pd.concat([triplets_ids_spot, new_row], ignore_index=True)\n",
        "      existing_pairs_spot.add((positive, anchor))\n",
        "  else:\n",
        "    count += 1\n",
        "\n",
        "# Save to a new CSV file\n",
        "output_path = os.path.join(root_dir, 'Triplets', 'triplets_ids_spot.csv')\n",
        "triplets_ids_spot.to_csv(output_path, index=False)\n",
        "\n",
        "triplets_ids_spot.shape, count"
      ],
      "metadata": {
        "colab": {
          "base_uri": "https://localhost:8080/"
        },
        "id": "BrBcdNnv_QHw",
        "outputId": "d75b80ad-892d-40ab-aea2-d1ebc9a123f4"
      },
      "execution_count": null,
      "outputs": [
        {
          "output_type": "stream",
          "name": "stderr",
          "text": [
            "114it [00:03, 36.64it/s]"
          ]
        },
        {
          "output_type": "stream",
          "name": "stdout",
          "text": [
            "9ada6fba-df61-4849-9f39-eec9be772b22 / 8f532bd1-c27a-4a7c-80f9-9d163f234623 already done\n"
          ]
        },
        {
          "output_type": "stream",
          "name": "stderr",
          "text": [
            "37343it [04:30, 418.54it/s]"
          ]
        },
        {
          "output_type": "stream",
          "name": "stdout",
          "text": [
            "b4265534-cf8f-4a8f-827d-fc490ccd15b8 / ab2241c7-ff64-4b52-90d8-4a7b0517d47c already done\n"
          ]
        },
        {
          "output_type": "stream",
          "name": "stderr",
          "text": [
            "66829it [05:36, 198.82it/s] \n"
          ]
        },
        {
          "output_type": "execute_result",
          "data": {
            "text/plain": [
              "((15764, 3), 56960)"
            ]
          },
          "metadata": {},
          "execution_count": 21
        }
      ]
    },
    {
      "cell_type": "code",
      "source": [
        "# ALLMUSIC & SPOTIFY TOGETHER\n",
        "\n",
        "triplets_ids_music_spot = triplets_ids_music\n",
        "for index, row in tqdm(triplets_ids_spot.iterrows()):\n",
        "  anchor = row['anchor']\n",
        "  positive = row['positive']\n",
        "  negative = row['negative']\n",
        "  if (anchor, positive) not in existing_pairs_music:\n",
        "    new_row = pd.DataFrame({'anchor': [positive], 'positive': [anchor], 'negative': [negative]})\n",
        "    triplets_ids_music_spot = pd.concat([triplets_ids_music_spot, new_row], ignore_index=True)\n",
        "\n",
        "output_path = os.path.join(root_dir, 'Triplets', 'triplets_ids_music_spot.csv')\n",
        "triplets_ids_music_spot.to_csv(output_path, index=False)\n",
        "\n",
        "triplets_ids_music_spot.shape"
      ],
      "metadata": {
        "colab": {
          "base_uri": "https://localhost:8080/"
        },
        "id": "qEKUjEAVGCTC",
        "outputId": "4870b39f-5ca3-472f-a380-42da346a81de"
      },
      "execution_count": null,
      "outputs": [
        {
          "output_type": "stream",
          "name": "stderr",
          "text": [
            "15764it [00:11, 1431.76it/s]\n"
          ]
        },
        {
          "output_type": "execute_result",
          "data": {
            "text/plain": [
              "(27367, 3)"
            ]
          },
          "metadata": {},
          "execution_count": 23
        }
      ]
    },
    {
      "cell_type": "code",
      "source": [
        "del triplets_ids_music_spot\n",
        "triplets_ids_music_spot = pd.read_csv(os.path.join(root_dir, 'Triplets', 'triplets_ids_music_spot.csv'))\n",
        "triplets_ids_music_spot.shape"
      ],
      "metadata": {
        "colab": {
          "base_uri": "https://localhost:8080/"
        },
        "id": "EDhdUtQ4wWvC",
        "outputId": "45dd5b26-045b-4de1-b416-d8c39a79f905"
      },
      "execution_count": null,
      "outputs": [
        {
          "output_type": "execute_result",
          "data": {
            "text/plain": [
              "(27367, 3)"
            ]
          },
          "metadata": {},
          "execution_count": 28
        }
      ]
    },
    {
      "cell_type": "code",
      "source": [
        "# INTERSECTION BETWEEN ALLMUSIC AND SPOTIFY\n",
        "\n",
        "triplets_ids_music = pd.read_csv(os.path.join(root_dir, 'Triplets', 'triplets_ids_music.csv'))\n",
        "triplets_ids_spot = pd.read_csv(os.path.join(root_dir, 'Triplets', 'triplets_ids_spot.csv'))\n",
        "\n",
        "# Merge the DataFrames on 'anchor' and 'positive' columns\n",
        "merged_df = pd.merge(triplets_ids_music, triplets_ids_spot[['anchor', 'positive']], on=['anchor', 'positive'], how='inner')\n",
        "shapee = merged_df.shape\n",
        "\n",
        "output_path = os.path.join(root_dir, 'Triplets', 'triplets_ids_music_spot_intersection.csv')\n",
        "merged_df.to_csv(output_path, index=False)\n",
        "\n",
        "del merged_df\n",
        "\n",
        "shapee"
      ],
      "metadata": {
        "colab": {
          "base_uri": "https://localhost:8080/"
        },
        "id": "Z6AvgYCpmKuf",
        "outputId": "74d7eec3-cfb6-4eb5-90b4-343b30083e7a"
      },
      "execution_count": null,
      "outputs": [
        {
          "output_type": "execute_result",
          "data": {
            "text/plain": [
              "(6070, 3)"
            ]
          },
          "metadata": {},
          "execution_count": 11
        }
      ]
    },
    {
      "cell_type": "markdown",
      "source": [
        "### Emb"
      ],
      "metadata": {
        "id": "1Hin-1e1GQQA"
      }
    },
    {
      "cell_type": "code",
      "source": [
        "i = 1 #type of embeddings\n",
        "k = 0 #number of the file\n",
        "count = 1800\n",
        "root_dir = os.getcwd()\n",
        "triplet_dir = os.path.join(root_dir, 'Triplets')\n",
        "npz_file_path = os.path.join(triplet_dir, 'triplets_prova1_2_2.npz') # npz_file_path = os.path.join(triplet_dir, f'triplets{i}_{k}.npz')\n",
        "\n",
        "# Load the data and shuffle the rows before selecting the first 3000\n",
        "triplets_ids_music = pd.read_csv(os.path.join(root_dir, 'Triplets', 'triplets_ids_music.csv')).sample(frac=1).reset_index(drop=True)[:3000]\n",
        "#triplets_ids_music = pd.read_csv(os.path.join(root_dir, 'Triplets', 'triplets_ids_music.csv'))\n",
        "\n",
        "# Initialize our triplet\n",
        "triplets = np.empty((0, 3, 61440), dtype=np.float16)\n",
        "\n",
        "# Loop over the DataFrame rows\n",
        "for index, row in tqdm(triplets_ids_music.iterrows()):\n",
        "  anchor = row['anchor']\n",
        "  positive = row['positive']\n",
        "  negative = row['negative']\n",
        "\n",
        "  triplets = add_triplet(anchor, positive, negative, triplets, i)\n",
        "\n",
        "'''\n",
        "  if count % 200 == 0 and index != 0:\n",
        "    triplets_info.to_csv(os.path.join(triplet_dir, 'triplets.csv'), index=False)\n",
        "    np.savez_compressed(npz_file_path, triplets=triplets)\n",
        "    print(triplets.shape)\n",
        "\n",
        "  if count == 7000:\n",
        "    print(\"7000 done!\")\n",
        "    break '''\n",
        "\n",
        "np.savez_compressed(npz_file_path, triplets=triplets)\n",
        "triplets.shape"
      ],
      "metadata": {
        "colab": {
          "base_uri": "https://localhost:8080/"
        },
        "id": "33TiRWa6xqry",
        "outputId": "95497a8d-4917-42dc-bc68-1614ca9d144a"
      },
      "execution_count": null,
      "outputs": [
        {
          "output_type": "stream",
          "name": "stderr",
          "text": [
            "3000it [13:45,  3.63it/s]\n"
          ]
        },
        {
          "output_type": "execute_result",
          "data": {
            "text/plain": [
              "(3000, 3, 61440)"
            ]
          },
          "metadata": {},
          "execution_count": 11
        }
      ]
    },
    {
      "cell_type": "code",
      "source": [
        "root_dir = os.getcwd()\n",
        "triplet_dir = os.path.join(root_dir, 'Triplets')\n",
        "\n",
        "# Load the data and shuffle the rows before selecting the first 3000\n",
        "triplets_ids_music = pd.read_csv(os.path.join(root_dir, 'Triplets', 'triplets_ids_music.csv')).sample(frac=1).reset_index(drop=True)[:3000]\n",
        "#triplets_ids_music = pd.read_csv(os.path.join(root_dir, 'Triplets', 'triplets_ids_music.csv'))\n",
        "\n",
        "# Initialize our triplet\n",
        "triplets1 = np.empty((0, 3, 61440), dtype=np.float16)\n",
        "triplets2 = np.empty((0, 3, 61440), dtype=np.float16)\n",
        "triplets3 = np.empty((0, 3, 61440), dtype=np.float16)\n",
        "triplets4 = np.empty((0, 3, 61440), dtype=np.float16)\n",
        "\n",
        "# Loop over the DataFrame rows\n",
        "for index, row in tqdm(triplets_ids_music.iterrows()):\n",
        "  anchor = row['anchor']\n",
        "  positive = row['positive']\n",
        "  negative = row['negative']\n",
        "\n",
        "  triplets1, triplets2, triplets3, triplets4 = add_triplets(anchor, positive, negative, triplets1, triplets2, triplets3, triplets4)\n",
        "\n",
        "triplets1.shape,triplets2.shape, triplets3.shape, triplets4.shape"
      ],
      "metadata": {
        "colab": {
          "base_uri": "https://localhost:8080/"
        },
        "id": "9Bsn_y9XYaCf",
        "outputId": "4b268e34-4d76-422c-eb72-7885c35c0904"
      },
      "execution_count": null,
      "outputs": [
        {
          "output_type": "stream",
          "name": "stderr",
          "text": [
            "3000it [57:29,  1.15s/it]\n"
          ]
        },
        {
          "output_type": "execute_result",
          "data": {
            "text/plain": [
              "((3000, 3, 61440), (3000, 3, 61440), (3000, 3, 61440), (3000, 3, 61440))"
            ]
          },
          "metadata": {},
          "execution_count": 4
        }
      ]
    },
    {
      "cell_type": "code",
      "source": [
        "npz_file_path = os.path.join(triplet_dir, 'triplets_prova1.npz')\n",
        "np.savez_compressed(npz_file_path, triplets=triplets1)\n",
        "del triplets1\n",
        "npz_file_path = os.path.join(triplet_dir, 'triplets_prova2.npz')\n",
        "np.savez_compressed(npz_file_path, triplets=triplets2)\n",
        "del triplets2\n",
        "npz_file_path = os.path.join(triplet_dir, 'triplets_prova3.npz')\n",
        "np.savez_compressed(npz_file_path, triplets=triplets3)\n",
        "del triplets3\n",
        "npz_file_path = os.path.join(triplet_dir, 'triplets_prova4.npz')\n",
        "np.savez_compressed(npz_file_path, triplets=triplets4)\n",
        "del triplets4"
      ],
      "metadata": {
        "id": "IMfMttqWY6qU"
      },
      "execution_count": null,
      "outputs": []
    },
    {
      "cell_type": "code",
      "source": [
        "triplets.dtype"
      ],
      "metadata": {
        "colab": {
          "base_uri": "https://localhost:8080/"
        },
        "id": "Rge7VU0CBtjS",
        "outputId": "5b7b13c7-8cf7-4f4a-8557-b3b100d0585a"
      },
      "execution_count": null,
      "outputs": [
        {
          "output_type": "execute_result",
          "data": {
            "text/plain": [
              "dtype('float16')"
            ]
          },
          "metadata": {},
          "execution_count": 12
        }
      ]
    },
    {
      "cell_type": "code",
      "source": [
        "root_dir = os.getcwd()\n",
        "path = os.path.join(root_dir, 'Triplets', 'triplets_prova_1_2.npz')\n",
        "with np.load(path) as data:\n",
        "  triplets = data['triplets'].astype(np.float32)\n",
        "\n",
        "root_dir = os.getcwd()\n",
        "path = os.path.join(root_dir, 'Triplets', 'triplets_prova_1_2.npz')\n",
        "with np.load(path) as data:\n",
        "  triplets2 = data['triplets']\n",
        "\n",
        "triplets[0,0,0], triplets2[0,0,0]"
      ],
      "metadata": {
        "colab": {
          "base_uri": "https://localhost:8080/"
        },
        "id": "l_EY-dmjBz6V",
        "outputId": "b293395a-b082-4914-ae2e-0c46b5ae4b60"
      },
      "execution_count": null,
      "outputs": [
        {
          "output_type": "execute_result",
          "data": {
            "text/plain": [
              "(0.61376953, 0.614)"
            ]
          },
          "metadata": {},
          "execution_count": 27
        }
      ]
    },
    {
      "cell_type": "code",
      "source": [
        "emb_path = os.path.join(root_dir, 'Emb_artist_scaled', '1', 'ffe54de6-5cee-4c0f-8329-f5946f9bc3ff.npy')\n",
        "emb_anc = np.load(emb_path).astype(np.float32)\n",
        "emb_anc.dtype, emb_anc.shape, emb_anc[0,0]"
      ],
      "metadata": {
        "colab": {
          "base_uri": "https://localhost:8080/"
        },
        "id": "A-jzlEzEv2kO",
        "outputId": "3127c97c-e4fb-479e-c037-4896e2b3100b"
      },
      "execution_count": null,
      "outputs": [
        {
          "output_type": "execute_result",
          "data": {
            "text/plain": [
              "(dtype('float32'), (1, 61440), 0.4819336)"
            ]
          },
          "metadata": {},
          "execution_count": 23
        }
      ]
    },
    {
      "cell_type": "code",
      "source": [
        "emb_path = os.path.join(root_dir, 'Emb_artist_scaled', '1', 'ffe54de6-5cee-4c0f-8329-f5946f9bc3ff.npy')\n",
        "emb_anc = np.load(emb_path)\n",
        "emb_anc.dtype, emb_anc.shape, emb_anc[0,0]"
      ],
      "metadata": {
        "colab": {
          "base_uri": "https://localhost:8080/"
        },
        "id": "bSgfgm7HwUTe",
        "outputId": "7feb2f4c-3012-4011-be2e-9487a36ed681"
      },
      "execution_count": null,
      "outputs": [
        {
          "output_type": "execute_result",
          "data": {
            "text/plain": [
              "(dtype('float16'), (1, 61440), 0.482)"
            ]
          },
          "metadata": {},
          "execution_count": 25
        }
      ]
    },
    {
      "cell_type": "code",
      "source": [
        "import sys # triplets_prova_1_2_2\n",
        "\n",
        "# Assuming 'food' is your DataFrame\n",
        "size_in_bytes = sys.getsizeof(triplets)\n",
        "size_in_bytes"
      ],
      "metadata": {
        "colab": {
          "base_uri": "https://localhost:8080/"
        },
        "id": "G3s9FOFksiA1",
        "outputId": "c8b4a780-0dd7-484c-a01a-3f9192d8008e"
      },
      "execution_count": null,
      "outputs": [
        {
          "output_type": "execute_result",
          "data": {
            "text/plain": [
              "1105920144"
            ]
          },
          "metadata": {},
          "execution_count": 13
        }
      ]
    },
    {
      "cell_type": "code",
      "source": [
        "import sys # triplets_prova_1_2\n",
        "\n",
        "# Assuming 'food' is your DataFrame\n",
        "size_in_bytes = sys.getsizeof(triplets)\n",
        "size_in_bytes"
      ],
      "metadata": {
        "colab": {
          "base_uri": "https://localhost:8080/"
        },
        "id": "a4l6NwMbDN_T",
        "outputId": "7a52ffe8-aca3-4d73-cdd6-1bbeda647817"
      },
      "execution_count": null,
      "outputs": [
        {
          "output_type": "execute_result",
          "data": {
            "text/plain": [
              "1105920144"
            ]
          },
          "metadata": {},
          "execution_count": 8
        }
      ]
    },
    {
      "cell_type": "code",
      "source": [
        "import sys # triplets_prova_1\n",
        "\n",
        "# Assuming 'food' is your DataFrame\n",
        "size_in_bytes = sys.getsizeof(triplets)\n",
        "size_in_bytes"
      ],
      "metadata": {
        "colab": {
          "base_uri": "https://localhost:8080/"
        },
        "id": "eed1thaKptKf",
        "outputId": "d80af650-2f02-4c38-c957-1b63fd7f7851"
      },
      "execution_count": null,
      "outputs": [
        {
          "output_type": "execute_result",
          "data": {
            "text/plain": [
              "2211840144"
            ]
          },
          "metadata": {},
          "execution_count": 10
        }
      ]
    },
    {
      "cell_type": "code",
      "source": [
        "import sys\n",
        "\n",
        "# Assuming 'food' is your DataFrame\n",
        "size_in_bytes = sys.getsizeof(triplets)\n",
        "size_in_bytes"
      ],
      "metadata": {
        "colab": {
          "base_uri": "https://localhost:8080/"
        },
        "id": "skPhap5gqbcG",
        "outputId": "06af1d98-4ca8-4072-8bf7-5fad96f7a906"
      },
      "execution_count": null,
      "outputs": [
        {
          "output_type": "execute_result",
          "data": {
            "text/plain": [
              "13029949584"
            ]
          },
          "metadata": {},
          "execution_count": 7
        }
      ]
    },
    {
      "cell_type": "code",
      "source": [
        "root_dir = os.getcwd()\n",
        "path = os.path.join(root_dir, 'Triplets', 'triplets_prova_1.npz')\n",
        "with np.load(path) as data:\n",
        "  triplets = data['triplets'].astype(np.float16)\n",
        "npz_file_path = os.path.join(root_dir, 'Triplets', 'triplets_prova_1_2.npz')\n",
        "np.savez_compressed(npz_file_path, triplets=triplets)\n",
        "del triplets\n",
        "\n",
        "path = os.path.join(root_dir, 'Triplets', 'triplets_prova_2.npz')\n",
        "with np.load(path) as data:\n",
        "  triplets = data['triplets'].astype(np.float16)\n",
        "npz_file_path = os.path.join(root_dir, 'Triplets', 'triplets_prova_2_2.npz')\n",
        "np.savez_compressed(npz_file_path, triplets=triplets)\n",
        "del triplets\n",
        "\n",
        "path = os.path.join(root_dir, 'Triplets', 'triplets_prova_3.npz')\n",
        "with np.load(path) as data:\n",
        "  triplets = data['triplets'].astype(np.float16)\n",
        "npz_file_path = os.path.join(root_dir, 'Triplets', 'triplets_prova_3_2.npz')\n",
        "np.savez_compressed(npz_file_path, triplets=triplets)\n",
        "del triplets\n",
        "\n",
        "path = os.path.join(root_dir, 'Triplets', 'triplets_prova_4.npz')\n",
        "with np.load(path) as data:\n",
        "  triplets = data['triplets'].astype(np.float16)\n",
        "npz_file_path = os.path.join(root_dir, 'Triplets', 'triplets_prova_4_2.npz')\n",
        "np.savez_compressed(npz_file_path, triplets=triplets)\n",
        "del triplets"
      ],
      "metadata": {
        "id": "G7gCmMG-M8TG"
      },
      "execution_count": null,
      "outputs": []
    },
    {
      "cell_type": "code",
      "source": [
        "path = os.path.join(root_dir, 'Triplets', 'triplets_prova_1_2.npz')\n",
        "with np.load(path) as data:\n",
        "  triplets = data['triplets']\n",
        "print(f\"{triplets.shape} and {triplets.dtype}\")\n",
        "del triplets\n",
        "\n",
        "path = os.path.join(root_dir, 'Triplets', 'triplets_prova_2_2.npz')\n",
        "with np.load(path) as data:\n",
        "  triplets = data['triplets']\n",
        "print(f\"{triplets.shape} and {triplets.dtype}\")\n",
        "del triplets\n",
        "\n",
        "path = os.path.join(root_dir, 'Triplets', 'triplets_prova_3_2.npz')\n",
        "with np.load(path) as data:\n",
        "  triplets = data['triplets']\n",
        "print(f\"{triplets.shape} and {triplets.dtype}\")\n",
        "del triplets\n",
        "\n",
        "path = os.path.join(root_dir, 'Triplets', 'triplets_prova_4_2.npz')\n",
        "with np.load(path) as data:\n",
        "  triplets = data['triplets']\n",
        "print(f\"{triplets.shape} and {triplets.dtype}\")\n",
        "del triplets"
      ],
      "metadata": {
        "colab": {
          "base_uri": "https://localhost:8080/"
        },
        "id": "Cr0_0ZE_VzBY",
        "outputId": "2d709685-5036-495f-e9da-303aba3e3117"
      },
      "execution_count": null,
      "outputs": [
        {
          "output_type": "stream",
          "name": "stdout",
          "text": [
            "(3000, 3, 61440) and float16\n",
            "(3000, 3, 61440) and float16\n",
            "(3000, 3, 61440) and float16\n",
            "(3000, 3, 61440) and float16\n"
          ]
        }
      ]
    },
    {
      "cell_type": "code",
      "source": [
        "path = os.path.join(root_dir, 'Triplets', 'triplets_music.npz')\n",
        "with np.load(path) as data:\n",
        "  triplets = data['triplets'].astype(np.float16)\n",
        "npz_file_path = os.path.join(root_dir, 'Triplets', 'triplets_music.npz')\n",
        "np.savez_compressed(npz_file_path, triplets=triplets)\n",
        "print(f\"{triplets.shape} and {triplets.dtype}\")\n",
        "del triplets"
      ],
      "metadata": {
        "colab": {
          "base_uri": "https://localhost:8080/"
        },
        "id": "HtrD6kq6gKEy",
        "outputId": "5e2702e4-5aa5-47c6-9362-8a73c6080de9"
      },
      "execution_count": null,
      "outputs": [
        {
          "output_type": "stream",
          "name": "stdout",
          "text": [
            "(17673, 3, 61440) and float16\n"
          ]
        }
      ]
    },
    {
      "cell_type": "code",
      "source": [],
      "metadata": {
        "id": "QFA7M1mlhCYK"
      },
      "execution_count": null,
      "outputs": []
    }
  ]
}