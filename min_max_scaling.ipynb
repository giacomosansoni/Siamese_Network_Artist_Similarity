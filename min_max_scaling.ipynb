{
  "nbformat": 4,
  "nbformat_minor": 0,
  "metadata": {
    "colab": {
      "provenance": [],
      "authorship_tag": "ABX9TyMCj36g74WZMw4OylWux2Wr",
      "include_colab_link": true
    },
    "kernelspec": {
      "name": "python3",
      "display_name": "Python 3"
    },
    "language_info": {
      "name": "python"
    }
  },
  "cells": [
    {
      "cell_type": "markdown",
      "metadata": {
        "id": "view-in-github",
        "colab_type": "text"
      },
      "source": [
        "<a href=\"https://colab.research.google.com/github/giacomosansoni/Siamese_Network_Artist_Similarity/blob/main/min_max_scaling.ipynb\" target=\"_parent\"><img src=\"https://colab.research.google.com/assets/colab-badge.svg\" alt=\"Open In Colab\"/></a>"
      ]
    },
    {
      "cell_type": "code",
      "execution_count": null,
      "metadata": {
        "id": "CRRvnWKCm0j7"
      },
      "outputs": [],
      "source": [
        "import numpy as np\n",
        "import pandas as pd\n",
        "from tqdm import tqdm\n",
        "import os"
      ]
    },
    {
      "cell_type": "code",
      "source": [
        "from google.colab import drive\n",
        "drive.mount('/gdrive')\n",
        "%cd /gdrive/My Drive/Thesis/Thesis/"
      ],
      "metadata": {
        "colab": {
          "base_uri": "https://localhost:8080/"
        },
        "id": "U_RS9zsBm8PH",
        "outputId": "adab9a29-0bbc-482b-d682-a2618b023a17"
      },
      "execution_count": null,
      "outputs": [
        {
          "output_type": "stream",
          "name": "stdout",
          "text": [
            "Drive already mounted at /gdrive; to attempt to forcibly remount, call drive.mount(\"/gdrive\", force_remount=True).\n",
            "/gdrive/.shortcut-targets-by-id/1D4FFhBTYn6QfBuxB5OXjn7JgI3z14YxH/Thesis\n"
          ]
        }
      ]
    },
    {
      "cell_type": "code",
      "source": [
        "root_dir = os.getcwd()\n",
        "emb_dir = os.path.join(root_dir, 'Embeddings_40')\n",
        "with np.load(os.path.join(emb_dir, 'ffe54de6-5cee-4c0f-8329-f5946f9bc3ff.npz')) as data:\n",
        "    ids = data['ids']\n",
        "    img_embb = data['img_embeddings']\n",
        "    emb1_1 = data['embeddings1_1']\n",
        "    emb1_2 = data['embeddings1_2']\n",
        "    emb2_1 = data['embeddings2_1']\n",
        "    emb2_2 = data['embeddings2_2']\n",
        "\n",
        "ids.shape, img_embb.shape, emb1_1.shape, ids.dtype, img_embb.dtype, emb1_1.dtype"
      ],
      "metadata": {
        "colab": {
          "base_uri": "https://localhost:8080/"
        },
        "id": "BEj5gCXVm_o4",
        "outputId": "f7063c4c-66c3-4000-da97-6d8c246705f6"
      },
      "execution_count": null,
      "outputs": [
        {
          "output_type": "execute_result",
          "data": {
            "text/plain": [
              "((40,),\n",
              " (40, 768),\n",
              " (40, 768),\n",
              " dtype('<U18'),\n",
              " dtype('float16'),\n",
              " dtype('float32'))"
            ]
          },
          "metadata": {},
          "execution_count": 11
        }
      ]
    },
    {
      "cell_type": "code",
      "source": [
        "min_img = np.full((768,), 50, dtype=np.float16)\n",
        "max_img = np.full((768,), -50, dtype=np.float32)\n",
        "min_emb1_1 = np.full((768,), 50, dtype=np.float32)\n",
        "max_emb1_1 = np.full((768,), -50, dtype=np.float32)\n",
        "min_emb1_2 = np.full((768,), 50, dtype=np.float32)\n",
        "max_emb1_2 = np.full((768,), -50, dtype=np.float32)\n",
        "min_emb2_1 = np.full((768,), 50, dtype=np.float32)\n",
        "max_emb2_1 = np.full((768,), -50, dtype=np.float32)\n",
        "min_emb2_2 = np.full((768,), 50, dtype=np.float32)\n",
        "max_emb2_2 = np.full((768,), -50, dtype=np.float32)\n",
        "\n",
        "# First pass to determine min and max values using vectorized operations\n",
        "for file_name in tqdm(os.listdir(emb_dir)):\n",
        "    if file_name.endswith('.npz'):\n",
        "        file_path = os.path.join(emb_dir, file_name)\n",
        "        with np.load(file_path) as data:\n",
        "            img_emb = data['img_embeddings']\n",
        "            emb1_1 = data['embeddings1_1']\n",
        "            emb1_2 = data['embeddings1_2']\n",
        "            emb2_1 = data['embeddings2_1']\n",
        "            emb2_2 = data['embeddings2_2']\n",
        "\n",
        "            # Update min and max values using vectorized operations\n",
        "            min_img = np.minimum(min_img, np.min(img_emb, axis=0))\n",
        "            max_img = np.maximum(max_img, np.max(img_emb, axis=0))\n",
        "\n",
        "            min_emb1_1 = np.minimum(min_emb1_1, np.min(emb1_1, axis=0))\n",
        "            max_emb1_1 = np.maximum(max_emb1_1, np.max(emb1_1, axis=0))\n",
        "\n",
        "            min_emb1_2 = np.minimum(min_emb1_2, np.min(emb1_2, axis=0))\n",
        "            max_emb1_2 = np.maximum(max_emb1_2, np.max(emb1_2, axis=0))\n",
        "\n",
        "            min_emb2_1 = np.minimum(min_emb2_1, np.min(emb2_1, axis=0))\n",
        "            max_emb2_1 = np.maximum(max_emb2_1, np.max(emb2_1, axis=0))\n",
        "\n",
        "            min_emb2_2 = np.minimum(min_emb2_2, np.min(emb2_2, axis=0))\n",
        "            max_emb2_2 = np.maximum(max_emb2_2, np.max(emb2_2, axis=0))"
      ],
      "metadata": {
        "colab": {
          "base_uri": "https://localhost:8080/"
        },
        "id": "_bYkLfh4r8Is",
        "outputId": "b09b27ff-eac5-4931-927b-8d3da0fd050e"
      },
      "execution_count": null,
      "outputs": [
        {
          "output_type": "stream",
          "name": "stderr",
          "text": [
            "100%|██████████| 3992/3992 [04:25<00:00, 15.05it/s] \n"
          ]
        }
      ]
    },
    {
      "cell_type": "code",
      "source": [
        "emb_dir = os.path.join(root_dir, 'Embeddings_40')\n",
        "\n",
        "# Second pass to apply min-max scaling and save the scaled embeddings\n",
        "def min_max_scale(x, min_val, max_val):\n",
        "    return (x - min_val) / (max_val - min_val)\n",
        "\n",
        "count = 0\n",
        "for file_name in tqdm(os.listdir(emb_dir)):\n",
        "    if file_name.endswith('.npz'):\n",
        "        file_path = os.path.join(emb_dir, file_name)\n",
        "        with np.load(file_path) as data:\n",
        "            ids = data['ids']\n",
        "            img_emb = data['img_embeddings']\n",
        "            emb1_1 = data['embeddings1_1']\n",
        "            emb1_2 = data['embeddings1_2']\n",
        "            emb2_1 = data['embeddings2_1']\n",
        "            emb2_2 = data['embeddings2_2']\n",
        "\n",
        "        # Apply min-max scaling using vectorized operations\n",
        "        scaled_img_emb = min_max_scale(img_emb, min_img, max_img).astype(np.float16)\n",
        "        scaled_emb1_1 = min_max_scale(emb1_1, min_emb1_1, max_emb1_1).astype(np.float16)\n",
        "        scaled_emb1_2 = min_max_scale(emb1_2, min_emb1_2, max_emb1_2).astype(np.float16)\n",
        "        scaled_emb2_1 = min_max_scale(emb2_1, min_emb2_1, max_emb2_1).astype(np.float16)\n",
        "        scaled_emb2_2 = min_max_scale(emb2_2, min_emb2_2, max_emb2_2).astype(np.float16)\n",
        "\n",
        "        # Save the scaled embeddings back to a new .npz file or overwrite the original\n",
        "        save_path = os.path.join(root_dir, 'Embeddings_40_scaled', file_name)\n",
        "        np.savez(save_path,\n",
        "                  ids = ids,\n",
        "                  img_embeddings=scaled_img_emb,\n",
        "                  embeddings1_1=scaled_emb1_1,\n",
        "                  embeddings1_2=scaled_emb1_2,\n",
        "                  embeddings2_1=scaled_emb2_1,\n",
        "                  embeddings2_2=scaled_emb2_2)\n",
        "        count+=1\n",
        "\n",
        "count"
      ],
      "metadata": {
        "colab": {
          "base_uri": "https://localhost:8080/"
        },
        "id": "3DdDQFl6wuJM",
        "outputId": "5c8eb089-2551-403b-9b69-c603d5a9ce44"
      },
      "execution_count": null,
      "outputs": [
        {
          "output_type": "stream",
          "name": "stderr",
          "text": [
            "100%|██████████| 3992/3992 [02:59<00:00, 22.28it/s]\n"
          ]
        },
        {
          "output_type": "execute_result",
          "data": {
            "text/plain": [
              "3992"
            ]
          },
          "metadata": {},
          "execution_count": 13
        }
      ]
    },
    {
      "cell_type": "code",
      "source": [
        "# CHECK OF SOME MISSING .npz FILES\n",
        "import os\n",
        "from tqdm import tqdm\n",
        "\n",
        "# Define the paths to the directories\n",
        "directory1 = os.path.join(root_dir, 'instagram')\n",
        "directory2 = os.path.join(root_dir, 'Embeddings_40_scaled')\n",
        "\n",
        "# Get a list of folders in directory1\n",
        "folders = [folder for folder in os.listdir(directory1)\n",
        "           if os.path.isdir(os.path.join(directory1, folder))]\n",
        "\n",
        "# Get a list of .npz files in directory2\n",
        "npz_files = [file for file in os.listdir(directory2)\n",
        "             if file.endswith('.npz')]\n",
        "\n",
        "# Create a set of the base names of the npz files without the extension\n",
        "npz_file_names = set(os.path.splitext(file)[0] for file in npz_files)\n",
        "\n",
        "# Check each folder against the npz files\n",
        "for folder in tqdm(folders):\n",
        "    if not (folder in npz_file_names):\n",
        "        print(f\"No match found: Folder '{folder}' does not have a corresponding .npz file in directory2.\")"
      ],
      "metadata": {
        "colab": {
          "base_uri": "https://localhost:8080/"
        },
        "id": "I4AcKfIW47cN",
        "outputId": "1986910d-fd35-4253-e217-6cda5178a350"
      },
      "execution_count": null,
      "outputs": [
        {
          "output_type": "stream",
          "name": "stderr",
          "text": [
            "100%|██████████| 3995/3995 [00:00<00:00, 572100.26it/s]"
          ]
        },
        {
          "output_type": "stream",
          "name": "stdout",
          "text": [
            "No match found: Folder '3f23c754-8049-44bd-92ca-44a4bacb4380' does not have a corresponding .npz file in directory2.\n",
            "No match found: Folder '08870a97-6af5-4db8-97fa-859bb9f2e0c2' does not have a corresponding .npz file in directory2.\n",
            "No match found: Folder 'cdcd53c9-f37c-48cc-b7e3-dfe34be22e92' does not have a corresponding .npz file in directory2.\n",
            "No match found: Folder '1550f952-c91b-40d7-9b4d-d26a259ee932' does not have a corresponding .npz file in directory2.\n"
          ]
        },
        {
          "output_type": "stream",
          "name": "stderr",
          "text": [
            "\n"
          ]
        }
      ]
    },
    {
      "cell_type": "code",
      "source": [
        "#CHECK OF THE SHAPES OF EVERY .npz FILE\n",
        "\n",
        "import os\n",
        "import numpy as np\n",
        "\n",
        "# Specify the directory containing the .npz files\n",
        "emb_dir = os.path.join(root_dir, 'Embeddings_40_scaled')\n",
        "\n",
        "# Function to check the array shapes in the npz file\n",
        "def check_shapes(file_path):\n",
        "    with np.load(file_path) as data:\n",
        "        ids = data['ids']\n",
        "        img_embb = data['img_embeddings']\n",
        "        emb1_1 = data['embeddings1_1']\n",
        "        emb1_2 = data['embeddings1_2']\n",
        "        emb2_1 = data['embeddings2_1']\n",
        "        emb2_2 = data['embeddings2_2']\n",
        "\n",
        "        # Check the lengths of all arrays and the specific shape for emb2_2\n",
        "        if (len(ids) == 40 and len(img_embb) == 40 and\n",
        "            len(emb1_1) == 40 and len(emb1_2) == 40 and\n",
        "            len(emb2_1) == 40 and len(emb2_2) == 40 and\n",
        "            emb2_2.shape == (40, 768)):\n",
        "            return True\n",
        "        else:\n",
        "            return False\n",
        "\n",
        "# Check each .npz file in the directory\n",
        "count = 0\n",
        "for filename in os.listdir(emb_dir):\n",
        "    if filename.endswith('.npz'):\n",
        "        count+=1\n",
        "        file_path = os.path.join(emb_dir, filename)\n",
        "        if not check_shapes(file_path):\n",
        "            print(f\"{filename}: Shapes are NOT correct.\")\n",
        "\n",
        "count"
      ],
      "metadata": {
        "colab": {
          "base_uri": "https://localhost:8080/"
        },
        "id": "FH8kbeLs5am6",
        "outputId": "cd3da6d8-be1a-4f10-b101-1746b5690243"
      },
      "execution_count": null,
      "outputs": [
        {
          "output_type": "execute_result",
          "data": {
            "text/plain": [
              "3992"
            ]
          },
          "metadata": {},
          "execution_count": 15
        }
      ]
    },
    {
      "cell_type": "code",
      "source": [],
      "metadata": {
        "id": "YxF3tEQ67WwE"
      },
      "execution_count": null,
      "outputs": []
    }
  ]
}